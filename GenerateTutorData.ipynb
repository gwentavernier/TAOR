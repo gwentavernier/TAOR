{
 "cells": [
  {
   "cell_type": "code",
   "execution_count": 8,
   "id": "27e3a681-8ee7-491d-b132-a208ef0d53d5",
   "metadata": {},
   "outputs": [],
   "source": [
    "import statistics\n",
    "import csv\n",
    "import random\n",
    "import numpy as np\n",
    "\n",
    "def generate_tutor_data(nb_lines=50):\n",
    "    # The tutor number. Starting at 500 to make sure they don't get confused for actual data\n",
    "    #tut_nb = random.sample(range(500, 1001), nb_lines)\n",
    "    preferencedata = [[1,2,4,8,3,5,6,7],[2,7,1,5,8,4,3,6],[5,8,2,3,6,4,7,1],\n",
    "                    [3,4,5,7,1,2,6,8],[3,7,2,6,5,4,1,8],[3,4,2,6,8,7,1,5],\n",
    "                    [3,2,7,6,1,4,5,8],[1,2,6,5,4,3,7,8],[1,3,4,8,2,5,7,6],\n",
    "                    [3,2,5,1,6,7,8,4],[1,4,5,6,2,3,7,8],[4,5,3,1,7,6,8,2],\n",
    "                    [3,8,2,5,7,4,6,1],[3,7,2,6,8,1,5,4],[2,3,6,4,1,7,5,8],\n",
    "                    [7,6,3,2,8,5,4,1],[2,1,3,6,4,5,8,7],[5,2,6,1,8,3,7,4],\n",
    "                    [6,1,4,2,8,5,7,3]]\n",
    "    competencydata = [[4,3,0,0,3,0,0,0],[0,0,3,0,0,0,0,0],[0,0,4,4,0,3,0,4],\n",
    "                [4,3,0,0,4,4,0,0],[3,0,3,0,0,0,4,0],[3,0,4,0,0,0,4,0],\n",
    "                [4,4,0,0,4,0,0,0],[4,4,0,0,3,4,0,0],[4,4,4,0,4,4,0,3],\n",
    "                [3,4,3,4,0,0,0,3],[4,3,0,0,4,4,0,0],[4,3,4,4,0,3,0,4],\n",
    "                [3,0,3,0,0,0,0,4],[3,0,4,0,0,4,0,3],[4,3,0,0,4,0,0,0],\n",
    "                [0,0,0,0,0,0,0,4],[0,3,0,0,0,0,0,0],[3,4,3,4,0,4,0,4],\n",
    "                [3,4,4,4,0,4,0,4]]\n",
    "    tut_nb = random.sample(range(500, 1001), nb_lines-len(preferencedata))\n",
    "    for n in tut_nb:        \n",
    "        # Column 2: Course preference from 1 to 8\n",
    "        preference = list(np.random.permutation(np.arange(1, 9)))\n",
    "\n",
    "        # Column 3: Until what Year they can teach the course. 0 is for 1st and 2nd.\n",
    "        compentency = list(np.random.choice([0, 3, 4], size=8, replace=True))\n",
    "\n",
    "        # Append tuple to the data list\n",
    "        preferencedata.append(preference)\n",
    "        competencydata.append(compentency)\n",
    "    return preferencedata, competencydata\n",
    "\n",
    "preferencedata, competencydata = generate_tutor_data(100)\n",
    "\n",
    "with open(\"TutorPref.dat\", \"w\") as file1:\n",
    "    file1.write(\"Preference: [\")  # Write the header\n",
    "    for row in preferencedata:\n",
    "        file1.write(\" \".join(map(str, row)) + \" \")  # Ensure single space separation\n",
    "    file1.write(\"]\\n\")  # Add closing bracket at the end\n",
    "\n",
    "\n",
    "with open('TutorComp.dat', 'w', newline='') as file2:\n",
    "    file2.write(\"Self_Competency: [\")  # Write the header\n",
    "    for row in competencydata:\n",
    "        file2.write(\" \".join(map(str, row)) + \" \")  # Ensure single space separation\n",
    "    file2.write(\"]\\n\")  # Add closing bracket at the end"
   ]
  }
 ],
 "metadata": {
  "kernelspec": {
   "display_name": "Python 3 (ipykernel)",
   "language": "python",
   "name": "python3"
  },
  "language_info": {
   "codemirror_mode": {
    "name": "ipython",
    "version": 3
   },
   "file_extension": ".py",
   "mimetype": "text/x-python",
   "name": "python",
   "nbconvert_exporter": "python",
   "pygments_lexer": "ipython3",
   "version": "3.11.9"
  }
 },
 "nbformat": 4,
 "nbformat_minor": 5
}
